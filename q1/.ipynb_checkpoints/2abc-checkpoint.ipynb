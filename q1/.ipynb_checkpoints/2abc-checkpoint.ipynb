{
 "cells": [
  {
   "cell_type": "code",
   "execution_count": 18,
   "outputs": [],
   "source": [
    "import numpy as np\n",
    "# Load the dataset\n",
    "X = np.loadtxt('binarydigits.txt')\n",
    "# Retrieve the number of samples (N) and number of features/pixels (D)\n",
    "N, D = X.shape"
   ],
   "metadata": {
    "collapsed": false,
    "pycharm": {
     "name": "#%%\n"
    }
   }
  },
  {
   "cell_type": "code",
   "execution_count": 19,
   "outputs": [],
   "source": [
    "# Step 2: Compute the statistics\n",
    "S = np.sum(X)          # Total number of ones in the dataset\n",
    "S_d = np.sum(X, axis=0)  # Number of ones for each pixel (across all samples)"
   ],
   "metadata": {
    "collapsed": false,
    "pycharm": {
     "name": "#%%\n"
    }
   }
  },
  {
   "cell_type": "code",
   "execution_count": 20,
   "outputs": [],
   "source": [
    "# Step 3: Calculate the marginal likelihoods\n",
    "# Model (a): All D components generated from a Bernoulli with p_d = 0.5\n",
    "# The likelihood of the data is 0.5^(N * D), and we calculate the log-likelihood to avoid numerical issues\n",
    "total_data_points = N * D\n",
    "loglikelihood_a = total_data_points * np.log(0.5)  # Log-likelihood for model (a)"
   ],
   "metadata": {
    "collapsed": false,
    "pycharm": {
     "name": "#%%\n"
    }
   }
  },
  {
   "cell_type": "code",
   "execution_count": 21,
   "outputs": [],
   "source": [
    "# Stirling's approximation function to compute ln(Gamma(n))\n",
    "def ln_gamma(n):\n",
    "    \"\"\"\n",
    "    Compute the natural logarithm of the Gamma function using Stirling's approximation.\n",
    "    Stirling's approximation is valid for large values of n and prevents numerical overflow\n",
    "    when calculating large factorials or Gamma functions.\n",
    "    \"\"\"\n",
    "    # Stirling's approximation is valid for n > 0\n",
    "    # Add a small epsilon to avoid log(0), which would cause numerical issues\n",
    "    epsilon = 1e-10\n",
    "    return (n - 0.5) * np.log(n + epsilon) - n + 0.5 * np.log(2 * np.pi)"
   ],
   "metadata": {
    "collapsed": false,
    "pycharm": {
     "name": "#%%\n"
    }
   }
  },
  {
   "cell_type": "code",
   "execution_count": 22,
   "outputs": [],
   "source": [
    "# Model (b): All D components generated from identical unknown Bernoulli distributions with p_d unknown\n",
    "# We integrate over the unknown p_d using a Beta prior and calculate the log-marginal likelihood\n",
    "a_b = S + 1  # Parameter a of the Beta function\n",
    "b_b = total_data_points - S + 1  # Parameter b of the Beta function\n",
    "# Log-marginal likelihood for model (b) using ln(Gamma) and Stirling's approximation\n",
    "loglikelihood_b = ln_gamma(a_b) + ln_gamma(b_b) - ln_gamma(a_b + b_b)  # Log-marginal likelihood for model (b)"
   ],
   "metadata": {
    "collapsed": false,
    "pycharm": {
     "name": "#%%\n"
    }
   }
  },
  {
   "cell_type": "code",
   "execution_count": 23,
   "outputs": [],
   "source": [
    "# Model (c): Each component has a separate unknown Bernoulli parameter p_d\n",
    "# We calculate the marginal likelihood by integrating over each separate p_d using a Beta prior\n",
    "loglikelihood_c = 0.0  # Initialize the log-likelihood for model (c)\n",
    "\n",
    "for d in range(D):\n",
    "    # Calculate the log-marginal likelihood for each pixel using Stirling's approximation\n",
    "    a_c = S_d[d] + 1  # Parameter a of the Beta function for each pixel\n",
    "    b_c = N - S_d[d] + 1  # Parameter b of the Beta function for each pixel\n",
    "    # Sum the log-Beta functions over all pixels\n",
    "    loglikelihood_c += ln_gamma(a_c) + ln_gamma(b_c) - ln_gamma(a_c + b_c)"
   ],
   "metadata": {
    "collapsed": false,
    "pycharm": {
     "name": "#%%\n"
    }
   }
  },
  {
   "cell_type": "code",
   "execution_count": 25,
   "outputs": [
    {
     "name": "stdout",
     "output_type": "stream",
     "text": [
      "The log denominator is: -3851.5098017975783\n",
      "\n",
      "Log likelihoods for every model\n",
      "loglikelihood for model a is: -4436.14195558365\n",
      "loglikelihood for model b is: -4283.721384281947\n",
      "loglikelihood for model c is: -3851.5098017975783\n",
      "\n",
      "Log nominators for every model\n",
      "log nominator for model a is: -584.6321537860717\n",
      "log nominator for model b is: -432.21158248436905\n",
      "log nominator for model c is: 0.0\n",
      "\n",
      "Log posteriors for every model\n",
      "log posterior for model a is: -584.6321537860717\n",
      "log posterior for model b is: -432.21158248436905\n",
      "log posterior for model c is: 0.0\n",
      "\n",
      "Posteriors for every model\n",
      "posterior for model a is: 1.2516464372281e-254\n",
      "posterior for model b is: 1.9628843497623033e-188\n",
      "posterior for model c is: 1.0\n"
     ]
    }
   ],
   "source": [
    "# Step 4: Compute posterior probabilities\n",
    "# Collect log-marginal likelihoods in a NumPy array for each model\n",
    "log_likelihoods = np.array([loglikelihood_a, loglikelihood_b, loglikelihood_c])\n",
    "\n",
    "# Calculate log denominator for normalization\n",
    "log_denominator = np.log(np.sum(np.exp(log_likelihoods - np.max(log_likelihoods)))) + np.max(log_likelihoods)\n",
    "\n",
    "# Calculate log nominators for each model\n",
    "log_nominator_a = loglikelihood_a - log_denominator\n",
    "log_nominator_b = loglikelihood_b - log_denominator\n",
    "log_nominator_c = loglikelihood_c - log_denominator\n",
    "\n",
    "# Calculate log posteriors for each model\n",
    "log_posterior_a = loglikelihood_a - log_denominator\n",
    "log_posterior_b = loglikelihood_b - log_denominator\n",
    "log_posterior_c = loglikelihood_c - log_denominator\n",
    "\n",
    "# Convert log posteriors back to regular posteriors by exponentiating\n",
    "posterior_a = np.exp(log_posterior_a)\n",
    "posterior_b = np.exp(log_posterior_b)\n",
    "posterior_c = np.exp(log_posterior_c)\n",
    "\n",
    "# Output results\n",
    "print(\"The log denominator is: \" + str(log_denominator) + \"\\n\")\n",
    "print(\"Log likelihoods for every model\")\n",
    "print(\"loglikelihood for model a is: \" + str(loglikelihood_a))\n",
    "print(\"loglikelihood for model b is: \" + str(loglikelihood_b))\n",
    "print(\"loglikelihood for model c is: \" + str(loglikelihood_c) + \"\\n\")\n",
    "\n",
    "print(\"Log nominators for every model\")\n",
    "print(\"log nominator for model a is: \" + str(log_nominator_a))\n",
    "print(\"log nominator for model b is: \" + str(log_nominator_b))\n",
    "print(\"log nominator for model c is: \" + str(log_nominator_c) + \"\\n\")\n",
    "\n",
    "print(\"Log posteriors for every model\")\n",
    "print(\"log posterior for model a is: \" + str(log_posterior_a))\n",
    "print(\"log posterior for model b is: \" + str(log_posterior_b))\n",
    "print(\"log posterior for model c is: \" + str(log_posterior_c) + \"\\n\")\n",
    "\n",
    "print(\"Posteriors for every model\")\n",
    "print(\"posterior for model a is: \" + str(posterior_a))\n",
    "print(\"posterior for model b is: \" + str(posterior_b))\n",
    "print(\"posterior for model c is: \" + str(posterior_c))"
   ],
   "metadata": {
    "collapsed": false,
    "pycharm": {
     "name": "#%%\n"
    }
   }
  },
  {
   "cell_type": "code",
   "execution_count": 27,
   "outputs": [
    {
     "name": "stdout",
     "output_type": "stream",
     "text": [
      "The log denominator is: -3668.5652522039236\n",
      "\n",
      "Log likelihoods for every model\n",
      "loglikelihood for model a is: -4436.14195558365\n",
      "loglikelihood for model b is: -4276.393036161629\n",
      "loglikelihood for model c is: -3668.5652522039236\n",
      "\n",
      "Log nominators for every model\n",
      "log nominator for model a is: -767.5767033797265\n",
      "log nominator for model b is: -607.8277839577058\n",
      "log nominator for model c is: 0.0\n",
      "\n",
      "Log posteriors for every model\n",
      "log posterior for model a is: -767.5767033797265\n",
      "log posterior for model b is: -607.8277839577058\n",
      "log posterior for model c is: 0.0\n",
      "\n",
      "Posteriors for every model\n",
      "posterior for model a is: 0.0\n",
      "posterior for model b is: 1.056203201802837e-264\n",
      "posterior for model c is: 1.0\n"
     ]
    }
   ],
   "source": [
    "import numpy as np\n",
    "# Load the data\n",
    "data = np.loadtxt('binarydigits.txt')\n",
    "N, D = data.shape  # N=100, D=64\n",
    "# Compute S_d and S\n",
    "S_d = np.sum(data, axis=0)  # Sum over images for each pixel\n",
    "S = np.sum(S_d)             # Total number of ones\n",
    "ND = N * D\n",
    "# Define the ln_gamma function using Stirling's approximation\n",
    "def ln_gamma(n):\n",
    "    n = np.asarray(n, dtype=np.float64)\n",
    "    result = np.zeros_like(n, dtype=np.float64)\n",
    "    small_n = n < 10\n",
    "    if np.any(small_n):\n",
    "        ns = n[small_n]\n",
    "        # Compute ln(Gamma(n)) exactly for small n\n",
    "        # Gamma(n) = (n-1)! for integer n\n",
    "        result[small_n] = np.array([np.sum(np.log(np.arange(1, ni))) for ni in ns])\n",
    "    large_n = ~small_n\n",
    "    if np.any(large_n):\n",
    "        nl = n[large_n]\n",
    "        # Stirling's approximation for large n\n",
    "        result[large_n] = nl * np.log(nl) - nl + 0.5 * np.log(2 * np.pi * nl)\n",
    "    return result\n",
    "# Model (a): ln P(D | M_a)\n",
    "ln_P_D_Ma = -ND * np.log(2)\n",
    "# Model (b): ln P(D | M_b)\n",
    "ln_Gamma_S_plus_1 = ln_gamma(S + 1)\n",
    "ln_Gamma_ND_minus_S_plus_1 = ln_gamma(ND - S + 1)\n",
    "ln_Gamma_ND_plus_2 = ln_gamma(ND + 2)\n",
    "ln_P_D_Mb = ln_Gamma_S_plus_1 + ln_Gamma_ND_minus_S_plus_1 - ln_Gamma_ND_plus_2\n",
    "# Model (c): ln P(D | M_c)\n",
    "ln_Gamma_Sd_plus_1 = ln_gamma(S_d + 1)\n",
    "ln_Gamma_N_minus_Sd_plus_1 = ln_gamma(N - S_d + 1)\n",
    "ln_Gamma_N_plus_2 = ln_gamma(N + 2)\n",
    "ln_P_D_Mc = np.sum(ln_Gamma_Sd_plus_1 + ln_Gamma_N_minus_Sd_plus_1) - D * ln_Gamma_N_plus_2\n",
    "# Compute posterior probabilities\n",
    "# Collect log-marginal likelihoods in a NumPy array for each model\n",
    "log_likelihoods = np.array([ln_P_D_Ma, ln_P_D_Mb, ln_P_D_Mc])\n",
    "# Calculate log denominator for normalization using log-sum-exp\n",
    "log_denominator = np.log(np.sum(np.exp(log_likelihoods - np.max(log_likelihoods)))) + np.max(log_likelihoods)\n",
    "# Calculate log nominators for each model\n",
    "log_nominator_a = ln_P_D_Ma - log_denominator\n",
    "log_nominator_b = ln_P_D_Mb - log_denominator\n",
    "log_nominator_c = ln_P_D_Mc - log_denominator\n",
    "# Calculate log posteriors for each model\n",
    "log_posterior_a = log_nominator_a\n",
    "log_posterior_b = log_nominator_b\n",
    "log_posterior_c = log_nominator_c\n",
    "# Convert log posteriors back to regular posteriors by exponentiating\n",
    "posterior_a = np.exp(log_posterior_a)\n",
    "posterior_b = np.exp(log_posterior_b)\n",
    "posterior_c = np.exp(log_posterior_c)\n",
    "\n",
    "# Output results\n",
    "print(\"The log denominator is: \" + str(log_denominator) + \"\\n\")\n",
    "print(\"Log likelihoods for every model\")\n",
    "print(\"loglikelihood for model a is: \" + str(ln_P_D_Ma))\n",
    "print(\"loglikelihood for model b is: \" + str(ln_P_D_Mb))\n",
    "print(\"loglikelihood for model c is: \" + str(ln_P_D_Mc) + \"\\n\")\n",
    "print(\"Log nominators for every model\")\n",
    "print(\"log nominator for model a is: \" + str(log_nominator_a))\n",
    "print(\"log nominator for model b is: \" + str(log_nominator_b))\n",
    "print(\"log nominator for model c is: \" + str(log_nominator_c) + \"\\n\")\n",
    "print(\"Log posteriors for every model\")\n",
    "print(\"log posterior for model a is: \" + str(log_posterior_a))\n",
    "print(\"log posterior for model b is: \" + str(log_posterior_b))\n",
    "print(\"log posterior for model c is: \" + str(log_posterior_c) + \"\\n\")\n",
    "print(\"Posteriors for every model\")\n",
    "print(\"posterior for model a is: \" + str(posterior_a))\n",
    "print(\"posterior for model b is: \" + str(posterior_b))\n",
    "print(\"posterior for model c is: \" + str(posterior_c))"
   ],
   "metadata": {
    "collapsed": false,
    "pycharm": {
     "name": "#%%\n"
    }
   }
  },
  {
   "cell_type": "code",
   "execution_count": null,
   "outputs": [],
   "source": [],
   "metadata": {
    "collapsed": false,
    "pycharm": {
     "name": "#%%\n"
    }
   }
  }
 ],
 "metadata": {
  "kernelspec": {
   "display_name": "Python 3",
   "language": "python",
   "name": "python3"
  },
  "language_info": {
   "codemirror_mode": {
    "name": "ipython",
    "version": 2
   },
   "file_extension": ".py",
   "mimetype": "text/x-python",
   "name": "python",
   "nbconvert_exporter": "python",
   "pygments_lexer": "ipython2",
   "version": "2.7.6"
  }
 },
 "nbformat": 4,
 "nbformat_minor": 0
}