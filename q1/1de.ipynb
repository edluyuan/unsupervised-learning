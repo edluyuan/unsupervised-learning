{
 "cells": [
  {
   "cell_type": "code",
   "execution_count": 1,
   "metadata": {
    "tags": []
   },
   "outputs": [],
   "source": [
    "# Import necessary libraries\n",
    "import numpy as np\n",
    "import matplotlib.pyplot as plt"
   ]
  },
  {
   "cell_type": "code",
   "execution_count": 2,
   "metadata": {
    "collapsed": false,
    "jupyter": {
     "outputs_hidden": false
    },
    "pycharm": {
     "name": "#%%\n"
    }
   },
   "outputs": [],
   "source": [
    "# Load the dataset from 'binarydigits.txt'\n",
    "# Assumes the file is in the same directory as the script\n",
    "data_matrix = np.loadtxt('binarydigits.txt')\n",
    "\n",
    "# Retrieve the number of samples (N) and number of features/pixels (D)\n",
    "num_samples, num_pixels = data_matrix.shape"
   ]
  },
  {
   "cell_type": "code",
   "execution_count": 3,
   "metadata": {
    "collapsed": false,
    "jupyter": {
     "outputs_hidden": false
    },
    "pycharm": {
     "name": "#%%\n"
    }
   },
   "outputs": [
    {
     "data": {
      "image/png": "[encoded data removed]",
      "text/plain": [
       "<Figure size 288x288 with 2 Axes>"
      ]
     },
     "metadata": {
      "needs_background": "light"
     },
     "output_type": "display_data"
    }
   ],
   "source": [
    "# Initialize an array to store Maximum Likelihood Estimates (MLE) for each pixel\n",
    "theta_mle = np.zeros(num_pixels)\n",
    "\n",
    "# Compute MLE for each pixel\n",
    "for pixel_index in range(num_pixels):\n",
    "    # Sum of the pixel values across all samples\n",
    "    pixel_sum = np.sum(data_matrix[:, pixel_index])\n",
    "\n",
    "    # MLE estimate for the pixel's Bernoulli parameter\n",
    "    theta_mle[pixel_index] = pixel_sum / num_samples\n",
    "\n",
    "# Reshape the MLE parameter vector to an 8x8 matrix for visualization\n",
    "theta_mle_image = theta_mle.reshape((8, 8))\n",
    "\n",
    "# Plot the MLE parameters as an 8x8 image\n",
    "plt.figure(figsize=(4, 4))\n",
    "plt.imshow(theta_mle_image, cmap='gray')\n",
    "plt.title('MLE Learned Parameters')\n",
    "plt.colorbar(label='Probability')\n",
    "plt.axis('off')  # Hide axis for better visualization\n",
    "plt.savefig('Figure2.png', dpi=300)\n",
    "plt.show()"
   ]
  },
  {
   "cell_type": "code",
   "execution_count": 4,
   "metadata": {
    "collapsed": false,
    "jupyter": {
     "outputs_hidden": false
    },
    "pycharm": {
     "name": "#%%\n"
    }
   },
   "outputs": [
    {
     "data": {
      "image/png": "[encoded data removed]",
      "text/plain": [
       "<Figure size 288x288 with 2 Axes>"
      ]
     },
     "metadata": {
      "needs_background": "light"
     },
     "output_type": "display_data"
    }
   ],
   "source": [
    "# Define the prior parameters for the Beta distribution\n",
    "alpha_prior = 3\n",
    "beta_prior = 3\n",
    "\n",
    "# Initialize an array to store MAP estimates for each pixel\n",
    "theta_map = np.zeros(num_pixels)\n",
    "\n",
    "# Compute MAP for each pixel\n",
    "for pixel_index in range(num_pixels):\n",
    "    # Sum of the pixel values across all samples\n",
    "    pixel_sum = np.sum(data_matrix[:, pixel_index])\n",
    "\n",
    "    # MAP estimate for the pixel's Bernoulli parameter\n",
    "    theta_map[pixel_index] = (pixel_sum + alpha_prior - 1) / (num_samples + alpha_prior + beta_prior - 2)\n",
    "\n",
    "# Reshape the MAP parameter vector to an 8x8 matrix for visualization\n",
    "theta_map_image = theta_map.reshape((8, 8))\n",
    "\n",
    "# Plot the MAP parameters as an 8x8 image\n",
    "plt.figure(figsize=(4, 4))\n",
    "plt.imshow(theta_map_image, cmap='gray')\n",
    "plt.title('MAP Learned Parameters')\n",
    "plt.colorbar(label='Probability')\n",
    "plt.axis('off')  # Hide axis for better visualization\n",
    "plt.savefig('Figure3.png', dpi=300)\n",
    "plt.show()\n",
    "\n",
    "# Explanation:\n",
    "# The MAP estimate incorporates prior beliefs about the parameters through the Beta prior.\n",
    "# With α = β = 3, the prior is symmetric and favors parameters around 0.5.\n",
    "# This can be beneficial in cases with limited data by preventing extreme estimates.\n",
    "# However, if the true underlying parameters are near 0 or 1, the MAP estimate\n",
    "# may be biased towards 0.5, making it worse than the MLE in such scenarios."
   ]
  },
  {
   "cell_type": "code",
   "execution_count": null,
   "metadata": {
    "collapsed": false,
    "jupyter": {
     "outputs_hidden": false
    },
    "pycharm": {
     "name": "#%%\n"
    }
   },
   "outputs": [],
   "source": [
    "import numpy as np\n",
    "import matplotlib.pyplot as plt\n",
    "from scipy.stats import bernoulli, norm\n",
    "\n",
    "# Load the data\n",
    "# Ensure 'binarydigits.txt' is in the same directory as this script\n",
    "data = np.loadtxt('binarydigits.txt')\n",
    "N, D = data.shape\n",
    "\n",
    "# Select a specific pixel to illustrate (e.g., pixel index 0)\n",
    "# You can change the index to visualize different pixels\n",
    "pixel_index = 0\n",
    "pixel_values = data[:, pixel_index]\n",
    "\n",
    "# Compute the empirical probability p for the selected pixel\n",
    "p = np.mean(pixel_values)\n",
    "print(f\"Empirical probability p for pixel {pixel_index + 1}: {p:.2f}\")\n",
    "\n",
    "# Define x values for the Bernoulli distribution (0 and 1)\n",
    "x_bernoulli = [0, 1]\n",
    "bernoulli_probs = bernoulli.pmf(x_bernoulli, p)\n",
    "\n",
    "# Define the range for the Gaussian distribution\n",
    "# Extending beyond [0, 1] to show the tails\n",
    "x_gaussian = np.linspace(-0.5, 1.5, 400)\n",
    "gaussian_mean = p\n",
    "gaussian_std = np.sqrt(p * (1 - p))\n",
    "gaussian_probs = norm.pdf(x_gaussian, loc=gaussian_mean, scale=gaussian_std)\n",
    "\n",
    "# Create the plot\n",
    "plt.figure(figsize=(8, 6))\n",
    "\n",
    "# Plot Bernoulli PMF as blue bars\n",
    "plt.bar(x_bernoulli, bernoulli_probs, width=0.1, color='blue', alpha=0.6, label='Bernoulli PMF')\n",
    "\n",
    "# Plot Gaussian PDF as a red curve\n",
    "plt.plot(x_gaussian, gaussian_probs, color='red', label='Gaussian PDF')\n",
    "\n",
    "# Add titles and labels\n",
    "plt.title(f'Figure 1: Bernoulli vs. Gaussian Distribution for Pixel {pixel_index + 1}')\n",
    "plt.xlabel('Pixel Value')\n",
    "plt.ylabel('Probability')\n",
    "\n",
    "# Set x-ticks to show only 0 and 1 for Bernoulli\n",
    "plt.xticks(x_bernoulli)\n",
    "\n",
    "# Add legend\n",
    "plt.legend()\n",
    "\n",
    "# Add grid for better readability\n",
    "plt.grid(True, linestyle='--', alpha=0.7)\n",
    "\n",
    "# Save the figure as 'Figure1.png'\n",
    "plt.savefig('Figure1.png', dpi=300)\n",
    "\n",
    "# Display the plot\n",
    "plt.show()"
   ]
  },
  {
   "cell_type": "code",
   "execution_count": null,
   "metadata": {
    "collapsed": false,
    "jupyter": {
     "outputs_hidden": false
    },
    "pycharm": {
     "name": "#%%\n"
    }
   },
   "outputs": [],
   "source": []
  }
 ],
 "metadata": {
  "kernelspec": {
   "display_name": "Python 3 (ipykernel)",
   "language": "python",
   "name": "python3"
  },
  "language_info": {
   "codemirror_mode": {
    "name": "ipython",
    "version": 3
   },
   "file_extension": ".py",
   "mimetype": "text/x-python",
   "name": "python",
   "nbconvert_exporter": "python",
   "pygments_lexer": "ipython3",
   "version": "3.9.7"
  }
 },
 "nbformat": 4,
 "nbformat_minor": 4
}
